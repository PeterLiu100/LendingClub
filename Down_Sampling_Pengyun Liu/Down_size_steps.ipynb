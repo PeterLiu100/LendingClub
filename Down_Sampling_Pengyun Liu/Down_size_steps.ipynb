{
 "cells": [
  {
   "cell_type": "code",
   "execution_count": 1,
   "metadata": {},
   "outputs": [],
   "source": [
    "import numpy as np     \n",
    "import pandas as pd \n",
    "import re \n",
    "import gzip  \n",
    "import csv\n",
    "import random   \n",
    "import matplotlib.pyplot as plt     \n",
    "from pandas.plotting import scatter_matrix\n",
    "import seaborn as sns   \n",
    "\n",
    "from sklearn.utils import resample"
   ]
  },
  {
   "cell_type": "markdown",
   "metadata": {},
   "source": [
    "# Functions"
   ]
  },
  {
   "cell_type": "markdown",
   "metadata": {},
   "source": [
    "## Returns the Distribution of Grade and Class of the Majority (Good) Class"
   ]
  },
  {
   "cell_type": "code",
   "execution_count": 2,
   "metadata": {},
   "outputs": [],
   "source": [
    "def percentage_good_loans(dataframe):\n",
    "    years = sorted(list(dataframe.issued_yr.unique()))\n",
    "    grade = sorted(list(dataframe.grade.unique()))\n",
    "    dist = {}\n",
    "    for x in years:\n",
    "        for y in grade:\n",
    "            num = dataframe[dataframe['grade'] == y][dataframe['issued_yr']== x][dataframe['loan_status_n'] ==1].term.count()\n",
    "            percentage = round(num / len(dataframe[dataframe['loan_status_n']==1].term),5)\n",
    "            place = str(x) +'_'+ y\n",
    "            dist[place] = percentage\n",
    "    return dist"
   ]
  },
  {
   "cell_type": "markdown",
   "metadata": {},
   "source": [
    "## Returns a DF of a Downsized Minority (Bad Loan) Class"
   ]
  },
  {
   "cell_type": "code",
   "execution_count": 3,
   "metadata": {},
   "outputs": [],
   "source": [
    "#--- Since the data of just the bad loans within the original 2.2M dataset might still be too large, this function \n",
    "#--- allows us to downsize the minority class first\n",
    "\n",
    "\n",
    "\n",
    "def pro_down_sample_minority(data, percent_of_data):\n",
    "    dist = percentage_bad_loans(data)\n",
    "    data_1 = data[data['loan_status_n'] == 0]\n",
    "    years_ = list(data.issued_yr.unique())\n",
    "    grade_ = list(data.grade.unique())\n",
    "    sample_down_df = pd.DataFrame(columns = data.columns)\n",
    "    #desired size of sample down size\n",
    "    size_of_sample = percent_of_data*(data_1.shape[0])\n",
    "\n",
    "    #print(size_of_sample)\n",
    "    for x in years_:\n",
    "        for y in grade_:\n",
    "            year_class = str(x)+'_'+y\n",
    "            year_class_prop = dist[year_class]\n",
    "            target_num = int(size_of_sample* year_class_prop)\n",
    "            #delete_later = size_of_sample* year_class_prop\n",
    "            #print(str(target_num) + '_' + str(delete_later))\n",
    "            temp_df = data_1[data_1['grade'] == y][data_1['issued_yr']== x]\n",
    "            sample_temp_df = resample(temp_df,\n",
    "                                     replace = False,\n",
    "                                     n_samples = target_num,\n",
    "                                     random_state=123)\n",
    "            sample_down_df = pd.concat([sample_down_df,sample_temp_df])\n",
    "    return sample_down_df\n"
   ]
  },
  {
   "cell_type": "markdown",
   "metadata": {},
   "source": [
    "## Returns the Distribution of Grade and Class of the Minority (Bad loan) Class\n"
   ]
  },
  {
   "cell_type": "code",
   "execution_count": 4,
   "metadata": {},
   "outputs": [],
   "source": [
    "def percentage_bad_loans(dataframe):\n",
    "    years = sorted(list(dataframe.issued_yr.unique()))\n",
    "    grade = sorted(list(dataframe.grade.unique()))\n",
    "    dist = {}\n",
    "    for x in years:\n",
    "        for y in grade:\n",
    "            num = dataframe[dataframe['grade'] == y][dataframe['issued_yr']== x][dataframe['loan_status_n'] ==0].term.count()\n",
    "            percentage = round(num / len(dataframe[dataframe['loan_status_n']==0].term),5)\n",
    "            place = str(x) +'_'+ y\n",
    "            dist[place] = percentage\n",
    "    return dist"
   ]
  },
  {
   "cell_type": "markdown",
   "metadata": {},
   "source": [
    "## Returns a DF of a Downsized Majority (Good Loan) Class"
   ]
  },
  {
   "cell_type": "code",
   "execution_count": 6,
   "metadata": {},
   "outputs": [],
   "source": [
    "#--- after downsizing the minority class, its shape[0] is now the target size of the dataframe of good loans we want\n",
    "\n",
    "\n",
    "\n",
    "def pro_down_sample_combined_dict_minority(data, downsized_minority_size):\n",
    "    dist = percentage_bad_loans(data)\n",
    "    data_1 = data[data['loan_status_n'] == 1]\n",
    "    years_ = list(data.issued_yr.unique())\n",
    "    grade_ = list(data.grade.unique())\n",
    "    sample_down_df = pd.DataFrame(columns = data.columns)\n",
    "    #desired size of sample down size======= might have to change a little bit to match the # of bad loans\n",
    "    #size_of_sample = percent_of_data*(data_1.shape[0])\n",
    "    size_of_sample = downsized_minority_size\n",
    "    for x in years_:\n",
    "        for y in grade_:\n",
    "            year_class = str(x)+'_'+y\n",
    "            # this 'dist' needs to refer to the output of percentage(dataframe) assigned to 'dist' variable name\n",
    "            year_class_prop = dist[year_class]\n",
    "            target_num = int(size_of_sample* year_class_prop)\n",
    "            temp_df = data_1[data_1['grade'] == y][data_1['issued_yr']== x]\n",
    "            sample_temp_df = resample(temp_df,\n",
    "                                     replace = False,\n",
    "                                     n_samples = target_num,\n",
    "                                     random_state=123)\n",
    "            sample_down_df = pd.concat([sample_down_df,sample_temp_df])\n",
    "    return sample_down_df"
   ]
  },
  {
   "cell_type": "code",
   "execution_count": null,
   "metadata": {},
   "outputs": [],
   "source": []
  },
  {
   "cell_type": "markdown",
   "metadata": {},
   "source": [
    "# Steps"
   ]
  },
  {
   "cell_type": "code",
   "execution_count": null,
   "metadata": {},
   "outputs": [],
   "source": [
    "#: 1. Downsize the minority class into a new dataframe and choose the percentage wanted from the original dataset\n",
    "pro_down_sample_minority(data, percent_of_data)\n",
    "\n",
    "#: 2. Downsize the majority class into a new dataframe, the new target size is the shape[0] of the previously create\n",
    "# minority class. input data is the original dataset\n",
    "pro_down_sample_combined_dict_minority(data, downsized_minority_size)\n"
   ]
  },
  {
   "cell_type": "markdown",
   "metadata": {},
   "source": [
    "# Check"
   ]
  },
  {
   "cell_type": "code",
   "execution_count": 7,
   "metadata": {},
   "outputs": [
    {
     "ename": "NameError",
     "evalue": "name 'original_dataframe' is not defined",
     "output_type": "error",
     "traceback": [
      "\u001b[0;31m---------------------------------------------------------------------------\u001b[0m",
      "\u001b[0;31mNameError\u001b[0m                                 Traceback (most recent call last)",
      "\u001b[0;32m<ipython-input-7-1da13b607c6f>\u001b[0m in \u001b[0;36m<module>\u001b[0;34m\u001b[0m\n\u001b[1;32m      1\u001b[0m \u001b[0;31m#: Distribution from original data set of bad loans is similair to distribution of downsized bad loans dataframe\u001b[0m\u001b[0;34m\u001b[0m\u001b[0;34m\u001b[0m\u001b[0;34m\u001b[0m\u001b[0m\n\u001b[0;32m----> 2\u001b[0;31m \u001b[0morig_bad\u001b[0m \u001b[0;34m=\u001b[0m \u001b[0mpercentage_bad_loans\u001b[0m\u001b[0;34m(\u001b[0m\u001b[0moriginal_dataframe\u001b[0m\u001b[0;34m)\u001b[0m\u001b[0;34m\u001b[0m\u001b[0;34m\u001b[0m\u001b[0m\n\u001b[0m\u001b[1;32m      3\u001b[0m \u001b[0mnew_bad\u001b[0m \u001b[0;34m=\u001b[0m \u001b[0mpercentage_bad_loans\u001b[0m\u001b[0;34m(\u001b[0m\u001b[0mnew_downsized_dataframe\u001b[0m\u001b[0;34m)\u001b[0m\u001b[0;34m\u001b[0m\u001b[0;34m\u001b[0m\u001b[0m\n\u001b[1;32m      4\u001b[0m \u001b[0;34m[\u001b[0m\u001b[0ma_i\u001b[0m \u001b[0;34m-\u001b[0m \u001b[0mb_i\u001b[0m \u001b[0;32mfor\u001b[0m \u001b[0ma_i\u001b[0m\u001b[0;34m,\u001b[0m \u001b[0mb_i\u001b[0m \u001b[0;32min\u001b[0m \u001b[0mzip\u001b[0m\u001b[0;34m(\u001b[0m\u001b[0morig_bad\u001b[0m\u001b[0;34m.\u001b[0m\u001b[0mvalues\u001b[0m\u001b[0;34m(\u001b[0m\u001b[0;34m)\u001b[0m\u001b[0;34m,\u001b[0m \u001b[0mnew_bad\u001b[0m\u001b[0;34m.\u001b[0m\u001b[0mvalues\u001b[0m\u001b[0;34m(\u001b[0m\u001b[0;34m)\u001b[0m\u001b[0;34m)\u001b[0m\u001b[0;34m]\u001b[0m\u001b[0;34m\u001b[0m\u001b[0;34m\u001b[0m\u001b[0m\n\u001b[1;32m      5\u001b[0m \u001b[0;34m\u001b[0m\u001b[0m\n",
      "\u001b[0;31mNameError\u001b[0m: name 'original_dataframe' is not defined"
     ]
    }
   ],
   "source": [
    "#: Distribution from original data set of bad loans is similair to distribution of downsized bad loans dataframe\n",
    "orig_bad = percentage_bad_loans(original_dataframe)\n",
    "new_bad = percentage_bad_loans(new_downsized_dataframe)\n",
    "[a_i - b_i for a_i, b_i in zip(orig_bad.values(), new_bad.values())]\n",
    "\n",
    "#: Distribution of downsized \"good loans\" matches the distribution of the \"bad loans\"\n",
    "new_bad #distribution of class and loans for smaller \"bad loan\" dataset \n",
    "new_good = percentage_good_loans(new_downsized_dataframe) \n",
    "[a_i - b_i for a_i, b_i in zip(new_bad.values(), new_good.values())]\n",
    "\n"
   ]
  },
  {
   "cell_type": "code",
   "execution_count": null,
   "metadata": {},
   "outputs": [],
   "source": []
  }
 ],
 "metadata": {
  "kernelspec": {
   "display_name": "Python 3",
   "language": "python",
   "name": "python3"
  },
  "language_info": {
   "codemirror_mode": {
    "name": "ipython",
    "version": 3
   },
   "file_extension": ".py",
   "mimetype": "text/x-python",
   "name": "python",
   "nbconvert_exporter": "python",
   "pygments_lexer": "ipython3",
   "version": "3.7.6"
  }
 },
 "nbformat": 4,
 "nbformat_minor": 4
}
